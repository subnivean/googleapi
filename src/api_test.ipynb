{
 "cells": [
  {
   "cell_type": "code",
   "execution_count": 105,
   "metadata": {},
   "outputs": [],
   "source": [
    "import os.path\n",
    "from googleapiclient.discovery import build\n",
    "from google_auth_oauthlib.flow import InstalledAppFlow\n",
    "from google.auth.transport.requests import Request\n",
    "from google.oauth2.credentials import Credentials\n",
    "import yfinance as yf"
   ]
  },
  {
   "cell_type": "code",
   "execution_count": 106,
   "metadata": {},
   "outputs": [],
   "source": [
    "# If modifying these scopes, delete the file token.json.\n",
    "SCOPES = ['https://www.googleapis.com/auth/spreadsheets']\n",
    "\n",
    "# The ID and range of a sample spreadsheet.\n",
    "# My test spreadsheet values (workbook 'MSKQuickstartTest')\n",
    "SAMPLE_SPREADSHEET_ID = '16T10gT1AIUgbQl6kHE81rEQ9RChdcaLLk1YCpZ1dQIA'\n",
    "SAMPLE_RANGE_NAME = 'Sheet1!A2:B'"
   ]
  },
  {
   "cell_type": "code",
   "execution_count": 107,
   "metadata": {},
   "outputs": [],
   "source": [
    "\"\"\"Shows basic usage of the Sheets API.\n",
    "Prints values from a sample spreadsheet.\n",
    "\"\"\"\n",
    "creds = None\n",
    "# The file token.json stores the user's access and refresh tokens, and is\n",
    "# created automatically when the authorization flow completes for the first\n",
    "# time.\n",
    "if os.path.exists('token.json'):\n",
    "    creds = Credentials.from_authorized_user_file('token.json', SCOPES)\n",
    "# If there are no (valid) credentials available, let the user log in.\n",
    "if not creds or not creds.valid:\n",
    "    if creds and creds.expired and creds.refresh_token:\n",
    "        creds.refresh(Request())\n",
    "    else:\n",
    "        flow = InstalledAppFlow.from_client_secrets_file(\n",
    "            'credentials.json', SCOPES)\n",
    "        creds = flow.run_local_server(port=0)\n",
    "    # Save the credentials for the next run\n",
    "    with open('token.json', 'w') as token:\n",
    "        token.write(creds.to_json())\n",
    "\n",
    "service = build('sheets', 'v4', credentials=creds)\n",
    "\n",
    "# Call the Sheets API\n",
    "sheet = service.spreadsheets()"
   ]
  },
  {
   "cell_type": "code",
   "execution_count": 108,
   "metadata": {},
   "outputs": [],
   "source": [
    "values = sheet.values().get(spreadsheetId=SAMPLE_SPREADSHEET_ID,\n",
    "                                range=SAMPLE_RANGE_NAME).execute()['values']"
   ]
  },
  {
   "cell_type": "code",
   "execution_count": 109,
   "metadata": {},
   "outputs": [],
   "source": [
    "stocks = [e[0] for e in values]\n",
    "numshares = [int(e[1]) for e in values]"
   ]
  },
  {
   "cell_type": "code",
   "execution_count": 110,
   "metadata": {},
   "outputs": [],
   "source": [
    "sts = yf.Tickers(stocks)"
   ]
  },
  {
   "cell_type": "code",
   "execution_count": 116,
   "metadata": {},
   "outputs": [
    {
     "name": "stdout",
     "output_type": "stream",
     "text": [
      "[*********************100%***********************]  12 of 12 completed\n"
     ]
    }
   ],
   "source": [
    "sdata = sts.download()"
   ]
  },
  {
   "cell_type": "code",
   "execution_count": 113,
   "metadata": {},
   "outputs": [],
   "source": [
    "sprices = [sdata['Close'][stock].dropna()[-1] for stock in stocks]\n",
    "values = [[sprice, num * sprice] for sprice, num in zip(sprices, numshares)]\n"
   ]
  },
  {
   "cell_type": "code",
   "execution_count": 114,
   "metadata": {},
   "outputs": [],
   "source": [
    "body = {'values': values}"
   ]
  },
  {
   "cell_type": "code",
   "execution_count": 115,
   "metadata": {},
   "outputs": [
    {
     "data": {
      "text/plain": [
       "{'spreadsheetId': '16T10gT1AIUgbQl6kHE81rEQ9RChdcaLLk1YCpZ1dQIA',\n",
       " 'updatedRange': 'Sheet1!C2:D13',\n",
       " 'updatedRows': 12,\n",
       " 'updatedColumns': 2,\n",
       " 'updatedCells': 24}"
      ]
     },
     "execution_count": 115,
     "metadata": {},
     "output_type": "execute_result"
    }
   ],
   "source": [
    "sheet.values().update(spreadsheetId=SAMPLE_SPREADSHEET_ID,\n",
    "                                range='C2', body=body, valueInputOption='RAW').execute()"
   ]
  }
 ],
 "metadata": {
  "interpreter": {
   "hash": "99e8f82a69b3983d2e9b10a140ee3c0d3d9ebb9fe8465335964409b8ef3f2e94"
  },
  "kernelspec": {
   "display_name": "Python 3.9.7 64-bit ('googleapi': conda)",
   "language": "python",
   "name": "python3"
  },
  "language_info": {
   "codemirror_mode": {
    "name": "ipython",
    "version": 3
   },
   "file_extension": ".py",
   "mimetype": "text/x-python",
   "name": "python",
   "nbconvert_exporter": "python",
   "pygments_lexer": "ipython3",
   "version": "3.9.7"
  },
  "orig_nbformat": 4
 },
 "nbformat": 4,
 "nbformat_minor": 2
}
